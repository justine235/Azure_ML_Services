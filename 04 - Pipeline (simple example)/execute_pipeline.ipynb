{
 "cells": [
  {
   "cell_type": "code",
   "execution_count": null,
   "source": [
    "from azureml.data import OutputFileDatasetConfig\r\n",
    "from azureml.pipeline.steps import PythonScriptStep, EstimatorStep\r\n",
    "# connection au WS\r\n",
    "from azureml.core import Workspace\r\n",
    "ws = Workspace.from_config()\r\n",
    "ws.get_details()\r\n",
    "\r\n",
    "# Execution du script en tant qu'experience\r\n",
    "from azureml.core import Experiment, ScriptRunConfig, Environment\r\n",
    "from azureml.core.conda_dependencies import CondaDependencies\r\n",
    "from azureml.pipeline.core import Pipeline\r\n",
    "from azureml.data import OutputFileDatasetConfig\r\n",
    "\r\n",
    "# Create a Python environment for the experiment\r\n",
    "sklearn_env = Environment(\"sklearn-env\")\r\n",
    "\r\n",
    "ws = Workspace.from_config() \r\n",
    "experiment = Experiment(ws, 'Firstpipeline') \r\n",
    "\r\n",
    "\r\n",
    "dataprep_step = PythonScriptStep(\r\n",
    "    name=\"prep_data\",\r\n",
    "    script_name=\"scripts/datacleaning_scipt1.py\",\r\n",
    "    source_directory=\".\",\r\n",
    "    compute_target='jcharley1',\r\n",
    "    #arguments=[\"--prepped_data_path\", prepped_data_path],\r\n",
    "    #inputs=[input_dataset.as_named_input('raw_data').as_mount() ]\r\n",
    "    )\r\n",
    "\r\n",
    "OutputFileDatasetConfig(name=\"output_path\")\r\n",
    "\r\n",
    "train_step = PythonScriptStep(\r\n",
    "    name=\"train\",\r\n",
    "    script_name=\"scripts/model_script2.py\",\r\n",
    "    compute_target='jcharley1',\r\n",
    "    #arguments=[\"--prepped_data\", prepped_data],\r\n",
    "    source_directory=\".\"\r\n",
    ")\r\n",
    "steps = [dataprep_step, train_step ]\r\n",
    "\r\n",
    "\r\n",
    "pipeline = Pipeline(workspace=ws, steps=steps)\r\n",
    "\r\n",
    "pipeline_run = experiment.submit(pipeline)\r\n",
    "pipeline_run.wait_for_completion()"
   ],
   "outputs": [],
   "metadata": {}
  }
 ],
 "metadata": {
  "orig_nbformat": 4,
  "language_info": {
   "name": "python",
   "version": "3.8.8",
   "mimetype": "text/x-python",
   "codemirror_mode": {
    "name": "ipython",
    "version": 3
   },
   "pygments_lexer": "ipython3",
   "nbconvert_exporter": "python",
   "file_extension": ".py"
  },
  "kernelspec": {
   "name": "python3",
   "display_name": "Python 3.8.8 64-bit ('base': conda)"
  },
  "interpreter": {
   "hash": "f4d2fc3f9599656570a986cacd0f8fb633e1f5eb6c0d7edd902095b821fab887"
  }
 },
 "nbformat": 4,
 "nbformat_minor": 2
}