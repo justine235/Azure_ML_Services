{
 "cells": [
  {
   "cell_type": "code",
   "execution_count": 1,
   "source": [
    "%%writefile conda_dependencies.yml\r\n",
    "\r\n",
    "channels:\r\n",
    "- conda-forge\r\n",
    "dependencies:\r\n",
    "- python=3.6.2\r\n",
    "- pip:\r\n",
    "  - azureml-defaults\r\n",
    "  - tensorflow-gpu==2.2.0\r\n",
    "  - pandas"
   ],
   "outputs": [
    {
     "output_type": "stream",
     "name": "stdout",
     "text": [
      "Writing conda_dependencies.yml\n"
     ]
    }
   ],
   "metadata": {}
  },
  {
   "cell_type": "code",
   "execution_count": 6,
   "source": [
    "#!pip install azureml-contrib-fairness\r\n",
    "#!pip install fairlearn==0.4.6\r\n",
    "#!pip install raiwidgets\r\n",
    "#pip install azureml-dataprep[pandas]\r\n",
    "\r\n",
    "from azureml.core.compute import ComputeTarget, AmlCompute\r\n",
    "from azureml.core.compute_target import ComputeTargetException\r\n",
    "from azureml.core import Environment\r\n",
    "from azureml.core import *\r\n",
    "from azureml.core.conda_dependencies import CondaDependencies\r\n",
    "from azureml.core.runconfig import RunConfiguration\r\n",
    "from azureml.core import Workspace, Dataset, Datastore\r\n",
    "import os, shutil\r\n",
    "from azureml.core import Dataset\r\n",
    "from azureml.pipeline.steps import PythonScriptStep\r\n",
    "from azureml.pipeline.core import Pipeline, PipelineData\r\n",
    "from azureml.core import Workspace, Dataset\r\n",
    "from azureml.train.automl import AutoMLConfig\r\n",
    "from azureml.core import Workspace,RunConfiguration\r\n",
    "from azureml.core.compute import ComputeTarget, AmlCompute\r\n",
    "from azureml.train.automl import AutoMLConfig\r\n",
    "from azureml.pipeline.steps import AutoMLStep\r\n",
    "from azureml.train.automl.utilities import get_primary_metrics\r\n",
    "from azureml.data.datapath import DataPath\r\n",
    "from azureml.core.datastore import Datastore\r\n",
    "from azureml.pipeline.core import InputPortBinding\r\n",
    "from azureml.core import Run\r\n",
    "from azureml.data.dataset_consumption_config import DatasetConsumptionConfig\r\n",
    "from azureml.pipeline.core import PipelineParameter\r\n",
    "from azureml.core import Dataset\r\n",
    "from azureml.core import Environment\r\n",
    "from azureml.pipeline.core import PipelineData, TrainingOutput\r\n",
    "from azureml.pipeline.steps import HyperDriveStep, HyperDriveStepRun, PythonScriptStep\r\n",
    "from azureml.train.hyperdrive.sampling import RandomParameterSampling\r\n",
    "from azureml.train.hyperdrive.run import PrimaryMetricGoal\r\n",
    "from azureml.train.hyperdrive.parameter_expressions import choice\r\n",
    "from azureml.train.hyperdrive.runconfig import HyperDriveConfig\r\n",
    "from azureml.data import OutputFileDatasetConfig\r\n",
    "from azureml.core import Experiment, ScriptRunConfig, Environment\r\n",
    "from azureml.core.conda_dependencies import CondaDependencies\r\n",
    "from azureml.train.hyperdrive import *\r\n",
    "from azureml.widgets import RunDetails\r\n",
    "from azureml.pipeline.core.schedule import ScheduleRecurrence, Schedule\r\n",
    "from azureml.core import Run\r\n",
    "from azureml.core import get_run\r\n",
    "import pandas as pd\r\n",
    "import numpy as np\r\n",
    "from fairlearn.reductions import GridSearch\r\n",
    "from fairlearn.reductions import DemographicParity\r\n",
    "from sklearn.compose import ColumnTransformer, make_column_selector\r\n",
    "from sklearn.preprocessing import LabelEncoder, StandardScaler, OneHotEncoder\r\n",
    "from sklearn.linear_model import LogisticRegression\r\n",
    "from sklearn.pipeline import Pipeline\r\n",
    "from sklearn.impute import SimpleImputer\r\n",
    "from sklearn.metrics import accuracy_score\r\n",
    "from interpret.ext.blackbox import MimicExplainer\r\n",
    "from interpret.ext.glassbox import LGBMExplainableModel\r\n",
    "from raiwidgets import FairnessDashboard\r\n",
    "from raiwidgets import ExplanationDashboard\r\n",
    "from azureml.pipeline.core import Pipeline\r\n",
    "from azureml.core import Environment\r\n",
    "from azureml.core.conda_dependencies import CondaDependencies\r\n",
    "\r\n",
    "\r\n",
    "# connection au WS\r\n",
    "from azureml.core import Workspace\r\n",
    "ws = Workspace.get(subscription_id = \"---------------\",\r\n",
    "                   resource_group = \"------------\",\r\n",
    "                   name = \"------------\")\r\n",
    "\r\n",
    "\r\n",
    "# Execution du script en tant qu'experience\r\n",
    "from azureml.core import Experiment, ScriptRunConfig, Environment\r\n",
    "from azureml.core.conda_dependencies import CondaDependencies\r\n",
    "from azureml.pipeline.core import Pipeline\r\n",
    "from azureml.data import OutputFileDatasetConfig\r\n",
    "\r\n",
    "# Create a Python environment for the experiment\r\n",
    "#sklearn_env = Environment(\"sklearn-env\")\r\n",
    "experiment = Experiment(ws, 'Firstpipeline') \r\n",
    "\r\n",
    "from azureml.core import Environment\r\n",
    "from azureml.core.runconfig import RunConfiguration\r\n",
    "env = Environment.from_conda_specification(name='my-env', file_path='./conda_dependencies.yml')\r\n",
    "env.docker.enabled = True\r\n",
    "env.docker.base_image = 'mcr.microsoft.com/azureml/openmpi3.1.2-cuda10.1-cudnn7-ubuntu18.04'\r\n",
    "# create a new runconfig object\r\n",
    "runconfig = RunConfiguration()\r\n",
    "runconfig.environment = env\r\n",
    "\r\n",
    "\r\n",
    "\r\n",
    "dataprep_step = PythonScriptStep(\r\n",
    "    name=\"prep_data\",\r\n",
    "    script_name=\"scripts/datacleaning_scipt1.py\",\r\n",
    "    source_directory=\".\",\r\n",
    "    compute_target='jucalcul1',\r\n",
    "    #arguments=[\"--prepped_data_path\", prepped_data_path],\r\n",
    "    #inputs=[input_dataset.as_named_input('raw_data').as_mount() ]\r\n",
    "    )\r\n",
    "\r\n",
    "OutputFileDatasetConfig(name=\"output_path\")\r\n",
    "\r\n",
    "train_step = PythonScriptStep(\r\n",
    "    name=\"train\",\r\n",
    "    script_name=\"scripts/model_script2.py\",\r\n",
    "    compute_target='jucalcul1',\r\n",
    "    #arguments=[\"--prepped_data\", prepped_data],\r\n",
    "    source_directory=\".\"\r\n",
    ")\r\n",
    "steps = [dataprep_step, train_step ]\r\n",
    "\r\n",
    "\r\n",
    "pipeline = Pipeline(workspace=ws, steps=steps)\r\n",
    "\r\n",
    "pipeline_run = experiment.submit(pipeline)\r\n",
    "pipeline_run.wait_for_completion()"
   ],
   "outputs": [
    {
     "output_type": "stream",
     "name": "stderr",
     "text": [
      "'enabled' is deprecated. Please use the azureml.core.runconfig.DockerConfiguration object with the 'use_docker' param instead.\n",
      "'enabled' is deprecated. Please use the azureml.core.runconfig.DockerConfiguration object with the 'use_docker' param instead.\n"
     ]
    },
    {
     "output_type": "stream",
     "name": "stdout",
     "text": [
      "Created step prep_data [827a0da0][afdf9cef-fcdb-48ec-9ea0-a3d57b68ea8b], (This step will run and generate new outputs)\n",
      "Created step train [311404a3][d63611b9-69ff-42e7-be5e-f1254e094801], (This step will run and generate new outputs)\n",
      "Submitted PipelineRun 433a1ae1-628c-40c6-aaec-f60ffe3ce5c7\n",
      "Link to Azure Machine Learning Portal: https://ml.azure.com/runs/433a1ae1-628c-40c6-aaec-f60ffe3ce5c7?wsid=/subscriptions/a0f4cddc-a66a-4dcc-9df7-ccbd7f81bf7b/resourcegroups/ressourcesecu/workspaces/deuxiemeespace&tid=72f988bf-86f1-41af-91ab-2d7cd011db47\n",
      "PipelineRunId: 433a1ae1-628c-40c6-aaec-f60ffe3ce5c7\n",
      "Link to Azure Machine Learning Portal: https://ml.azure.com/runs/433a1ae1-628c-40c6-aaec-f60ffe3ce5c7?wsid=/subscriptions/a0f4cddc-a66a-4dcc-9df7-ccbd7f81bf7b/resourcegroups/ressourcesecu/workspaces/deuxiemeespace&tid=72f988bf-86f1-41af-91ab-2d7cd011db47\n",
      "PipelineRun Status: Running\n"
     ]
    },
    {
     "output_type": "stream",
     "name": "stderr",
     "text": [
      "Expected a StepRun object but received <class 'azureml.core.run.Run'> instead.\n",
      "This usually indicates a package conflict with one of the dependencies of azureml-core or azureml-pipeline-core.\n",
      "Please check for package conflicts in your python environment\n"
     ]
    },
    {
     "output_type": "stream",
     "name": "stdout",
     "text": [
      "\n",
      "\n"
     ]
    }
   ],
   "metadata": {}
  }
 ],
 "metadata": {
  "orig_nbformat": 4,
  "language_info": {
   "name": "python",
   "version": "3.8.8",
   "mimetype": "text/x-python",
   "codemirror_mode": {
    "name": "ipython",
    "version": 3
   },
   "pygments_lexer": "ipython3",
   "nbconvert_exporter": "python",
   "file_extension": ".py"
  },
  "kernelspec": {
   "name": "python3",
   "display_name": "Python 3.8.8 64-bit ('base': conda)"
  },
  "interpreter": {
   "hash": "f4d2fc3f9599656570a986cacd0f8fb633e1f5eb6c0d7edd902095b821fab887"
  }
 },
 "nbformat": 4,
 "nbformat_minor": 2
}