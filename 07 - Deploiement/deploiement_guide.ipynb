{
 "cells": [
  {
   "cell_type": "code",
   "execution_count": 1,
   "source": [
    "# credentials \r\n",
    "subscription_id = 'a0f4cddc-a66a-4dcc-9df7-ccbd7f81bf7b'\r\n",
    "resource_group = 'ressourcesecu'\r\n",
    "workspace_name = 'deuxiemeespace'\r\n",
    "compute_engine = 'jucalcul1'\r\n",
    "cluster_name = 'jucalcul1'\r\n",
    "dataset_name = 'trainingdataset'\r\n",
    "experiment_name = \"25082021\""
   ],
   "outputs": [],
   "metadata": {}
  },
  {
   "cell_type": "code",
   "execution_count": 2,
   "source": [
    "#!pip install azureml-contrib-fairness\r\n",
    "#!pip install fairlearn==0.4.6\r\n",
    "#!pip install raiwidgets\r\n",
    "#pip install azureml-dataprep[pandas]\r\n",
    "\r\n",
    "from azureml.core.compute import ComputeTarget, AmlCompute\r\n",
    "from azureml.core.compute_target import ComputeTargetException\r\n",
    "from azureml.core import Environment\r\n",
    "from azureml.core import *\r\n",
    "from azureml.core.conda_dependencies import CondaDependencies\r\n",
    "from azureml.core.runconfig import RunConfiguration\r\n",
    "from azureml.core import Workspace, Dataset, Datastore\r\n",
    "import os, shutil\r\n",
    "from azureml.core import Dataset\r\n",
    "from azureml.pipeline.steps import PythonScriptStep\r\n",
    "from azureml.pipeline.core import Pipeline, PipelineData\r\n",
    "from azureml.core import Workspace, Dataset\r\n",
    "from azureml.train.automl import AutoMLConfig\r\n",
    "from azureml.core import Workspace,RunConfiguration\r\n",
    "from azureml.core.compute import ComputeTarget, AmlCompute\r\n",
    "from azureml.train.automl import AutoMLConfig\r\n",
    "from azureml.pipeline.steps import AutoMLStep\r\n",
    "from azureml.train.automl.utilities import get_primary_metrics\r\n",
    "from azureml.data.datapath import DataPath\r\n",
    "from azureml.core.datastore import Datastore\r\n",
    "from azureml.pipeline.core import InputPortBinding\r\n",
    "from azureml.core import Run\r\n",
    "from azureml.data.dataset_consumption_config import DatasetConsumptionConfig\r\n",
    "from azureml.pipeline.core import PipelineParameter\r\n",
    "from azureml.core import Dataset\r\n",
    "from azureml.core import Environment\r\n",
    "from azureml.pipeline.core import PipelineData, TrainingOutput\r\n",
    "from azureml.pipeline.steps import HyperDriveStep, HyperDriveStepRun, PythonScriptStep\r\n",
    "from azureml.train.hyperdrive.sampling import RandomParameterSampling\r\n",
    "from azureml.train.hyperdrive.run import PrimaryMetricGoal\r\n",
    "from azureml.train.hyperdrive.parameter_expressions import choice\r\n",
    "from azureml.train.hyperdrive.runconfig import HyperDriveConfig\r\n",
    "from azureml.data import OutputFileDatasetConfig\r\n",
    "from azureml.core import Experiment, ScriptRunConfig, Environment\r\n",
    "from azureml.core.conda_dependencies import CondaDependencies\r\n",
    "from azureml.train.hyperdrive import *\r\n",
    "from azureml.widgets import RunDetails\r\n",
    "from azureml.pipeline.core.schedule import ScheduleRecurrence, Schedule\r\n",
    "from azureml.core import Run\r\n",
    "from azureml.core import get_run\r\n",
    "import pandas as pd\r\n",
    "import numpy as np\r\n",
    "from fairlearn.reductions import GridSearch\r\n",
    "from fairlearn.reductions import DemographicParity\r\n",
    "from sklearn.compose import ColumnTransformer, make_column_selector\r\n",
    "from sklearn.preprocessing import LabelEncoder, StandardScaler, OneHotEncoder\r\n",
    "from sklearn.linear_model import LogisticRegression\r\n",
    "from sklearn.pipeline import Pipeline\r\n",
    "from sklearn.impute import SimpleImputer\r\n",
    "from sklearn.metrics import accuracy_score\r\n",
    "from interpret.ext.blackbox import MimicExplainer\r\n",
    "from interpret.ext.glassbox import LGBMExplainableModel\r\n",
    "from raiwidgets import FairnessDashboard\r\n",
    "from raiwidgets import ExplanationDashboard\r\n",
    "from azureml.pipeline.core import Pipeline\r\n",
    "from azureml.core import Environment\r\n",
    "from azureml.pipeline.core import Pipeline, StepSequence\r\n",
    "import datetime"
   ],
   "outputs": [
    {
     "output_type": "stream",
     "name": "stderr",
     "text": [
      "Failure while loading azureml_run_type_providers. Failed to load entrypoint hyperdrive = azureml.train.hyperdrive:HyperDriveRun._from_run_dto with exception (azureml-core 1.33.0 (c:\\users\\jcharley\\anaconda3\\lib\\site-packages), Requirement.parse('azureml-core~=1.32.0')).\n",
      "Failure while loading azureml_run_type_providers. Failed to load entrypoint automl = azureml.train.automl.run:AutoMLRun._from_run_dto with exception (azureml-core 1.33.0 (c:\\users\\jcharley\\anaconda3\\lib\\site-packages), Requirement.parse('azureml-core~=1.32.0'), {'azureml-telemetry'}).\n",
      "Failure while loading azureml_run_type_providers. Failed to load entrypoint azureml.PipelineRun = azureml.pipeline.core.run:PipelineRun._from_dto with exception (azureml-core 1.33.0 (c:\\users\\jcharley\\anaconda3\\lib\\site-packages), Requirement.parse('azureml-core~=1.32.0')).\n",
      "Failure while loading azureml_run_type_providers. Failed to load entrypoint azureml.ReusedStepRun = azureml.pipeline.core.run:StepRun._from_reused_dto with exception (azureml-core 1.33.0 (c:\\users\\jcharley\\anaconda3\\lib\\site-packages), Requirement.parse('azureml-core~=1.32.0')).\n",
      "Failure while loading azureml_run_type_providers. Failed to load entrypoint azureml.StepRun = azureml.pipeline.core.run:StepRun._from_dto with exception (azureml-core 1.33.0 (c:\\users\\jcharley\\anaconda3\\lib\\site-packages), Requirement.parse('azureml-core~=1.32.0')).\n"
     ]
    }
   ],
   "metadata": {}
  },
  {
   "cell_type": "code",
   "execution_count": 13,
   "source": [
    "# register a model\r\n",
    "\r\n",
    "ws = Workspace.get(subscription_id = subscription_id,\r\n",
    "                   resource_group = resource_group,\r\n",
    "                   name = workspace_name)\r\n",
    "\r\n",
    "# model to use\r\n",
    "model_name = \"rf\"                        \r\n",
    "from azureml.core.model import Model\r\n",
    "model = Model(ws, model_name)\r\n",
    "print(\"---------model -------------\")\r\n",
    "print(model)\r\n",
    "\r\n",
    "# environment to use\r\n",
    "sklearn_env = Environment.get(workspace=ws, name=\"AzureML-Tutorial\")\r\n",
    "print(\"---------model -------------\")\r\n",
    "print(sklearn_env)"
   ],
   "outputs": [
    {
     "output_type": "stream",
     "name": "stdout",
     "text": [
      "---------model -------------\n",
      "Model(workspace=Workspace.create(name='deuxiemeespace', subscription_id='a0f4cddc-a66a-4dcc-9df7-ccbd7f81bf7b', resource_group='ressourcesecu'), name=rf, id=rf:13, version=13, tags={}, properties={})\n",
      "---------model -------------\n",
      "Environment(Name: AzureML-Tutorial,\n",
      "Version: 75)\n"
     ]
    }
   ],
   "metadata": {}
  },
  {
   "cell_type": "code",
   "execution_count": 14,
   "source": [
    "##Deploy as web service\r\n",
    "\r\n",
    "#To build the correct environment for ACI, provide the following:\r\n",
    "#- A scoring script to show how to use the model\r\n",
    "#- A configuration file to build the ACI\r\n",
    "#-The model you trained before"
   ],
   "outputs": [],
   "metadata": {}
  },
  {
   "cell_type": "code",
   "execution_count": null,
   "source": [
    " #Create scoring script\r\n",
    " #The init() function, which typically loads the model into a global object. This function is run only once when the Docker \r\n",
    " # container is started.\r\n",
    "\r\n",
    "#The run(input_data) function uses the model to predict a value based on the input data. Inputs and outputs to the run typically \r\n",
    "# use JSON for serialization and de-serialization, but other formats are supported."
   ],
   "outputs": [],
   "metadata": {}
  },
  {
   "cell_type": "code",
   "execution_count": 15,
   "source": [
    "%%writefile score.py\r\n",
    "import json\r\n",
    "import numpy as np\r\n",
    "import os\r\n",
    "import pickle\r\n",
    "import joblib\r\n",
    "\r\n",
    "def init():\r\n",
    "    global model\r\n",
    "    # AZUREML_MODEL_DIR is an environment variable created during deployment.\r\n",
    "    # It is the path to the model folder (./azureml-models/$MODEL_NAME/$VERSION)\r\n",
    "    # For multiple models, it points to the folder containing all deployed models (./azureml-models)\r\n",
    "    model_path = os.path.join(os.getenv('AZUREML_MODEL_DIR'), './outputs/model/saved_model.pkl')\r\n",
    "    model = joblib.load(model_path)\r\n",
    "\r\n",
    "def run(raw_data):\r\n",
    "    data = np.array(json.loads(raw_data)['data'])\r\n",
    "    # make prediction\r\n",
    "    y_hat = model.predict(data)\r\n",
    "    # you can return any data type as long as it is JSON-serializable\r\n",
    "    return y_hat.tolist()"
   ],
   "outputs": [
    {
     "output_type": "stream",
     "name": "stdout",
     "text": [
      "Writing score.py\n"
     ]
    }
   ],
   "metadata": {}
  },
  {
   "cell_type": "code",
   "execution_count": null,
   "source": [
    "#Create configuration file"
   ],
   "outputs": [],
   "metadata": {}
  },
  {
   "cell_type": "code",
   "execution_count": 18,
   "source": [
    "aci_tags={\"Data\": \"MNIST\", \"Framework\" : \"sklearn\", \"Purpose\" : \"ACI Test\"}\r\n",
    "\r\n",
    "from azureml.core.webservice import AciWebservice\r\n",
    "\r\n",
    "aciconfig = AciWebservice.deploy_configuration(cpu_cores=1, \r\n",
    "                                               memory_gb=1, \r\n",
    "                                               auth_enabled=False, #Can be set on True!\r\n",
    "                                               ssl_enabled=False,\r\n",
    "                                               enable_app_insights=True,\r\n",
    "                                               tags=aci_tags, \r\n",
    "                                               description='Predict MNIST with sklearn using Azure ML')"
   ],
   "outputs": [],
   "metadata": {}
  },
  {
   "cell_type": "code",
   "execution_count": null,
   "source": [
    "#Deploy in ACI\r\n",
    "#The following code goes through these steps:\r\n",
    "\r\n",
    "#Create environment object containing dependencies needed by the model using the environment file (myenv.yml)\r\n",
    "#Create inference configuration necessary to deploy the model as a web service using:\r\n",
    "#The scoring file (score.py)\r\n",
    "#envrionment object created in previous step\r\n",
    "#Deploy the model to the ACI container.\r\n",
    "#Get the web service HTTP endpoint."
   ],
   "outputs": [],
   "metadata": {}
  },
  {
   "cell_type": "code",
   "execution_count": 22,
   "source": [
    "import uuid\r\n",
    "import datetime\r\n",
    "from azureml.core.webservice import Webservice\r\n",
    "from azureml.core.model import InferenceConfig\r\n",
    "from azureml.core.environment import Environment\r\n",
    "from azureml.core import Workspace\r\n",
    "from azureml.core.model import Model\r\n",
    "\r\n",
    "\r\n",
    "ws = Workspace.get(subscription_id = subscription_id,\r\n",
    "                   resource_group = resource_group,\r\n",
    "                   name = workspace_name)\r\n",
    "\r\n",
    "model = Model(ws, 'rf')\r\n",
    "# Environment to use\r\n",
    "myenv = Environment.get(workspace=ws, name=\"AzureML-Tutorial\")\r\n",
    "inference_config = InferenceConfig(entry_script=\"score.py\", environment=myenv)\r\n",
    "\r\n",
    "# Name of the service (should be unique)\r\n",
    "service_name = 'firstdeploiement-' + datetime.datetime.now().strftime(\"%m%d%H\")\r\n",
    "\r\n",
    "service = Model.deploy(workspace=ws, \r\n",
    "                       name=service_name, \r\n",
    "                       models=[model], \r\n",
    "                       inference_config=inference_config, \r\n",
    "                       deployment_config=aciconfig)\r\n",
    "\r\n",
    "service.wait_for_deployment(show_output=True)"
   ],
   "outputs": [
    {
     "output_type": "stream",
     "name": "stdout",
     "text": [
      "here\n",
      "here\n",
      "Tips: You can try get_logs(): https://aka.ms/debugimage#dockerlog or local deployment: https://aka.ms/debugimage#debug-locally to debug if deployment takes longer than 10 minutes.\n",
      "Running\n",
      "2021-09-01 19:03:15+02:00 Creating Container Registry if not exists.\n",
      "2021-09-01 19:03:15+02:00 Registering the environment.\n",
      "2021-09-01 19:03:17+02:00 Use the existing image.\n",
      "2021-09-01 19:03:17+02:00 Generating deployment configuration.\n",
      "2021-09-01 19:03:18+02:00 Submitting deployment to compute.\n",
      "2021-09-01 19:03:24+02:00 Checking the status of deployment sklearn-mnist-090119..\n",
      "2021-09-01 19:07:20+02:00 Checking the status of inference endpoint sklearn-mnist-090119.\n",
      "Failed\n"
     ]
    },
    {
     "output_type": "stream",
     "name": "stderr",
     "text": [
      "Service deployment polling reached non-successful terminal state, current service state: Failed\n",
      "Operation ID: be3fd0f6-69e5-4492-8874-0d383742d098\n",
      "More information can be found using '.get_logs()'\n",
      "Error:\n",
      "{\n",
      "  \"code\": \"AciDeploymentFailed\",\n",
      "  \"statusCode\": 400,\n",
      "  \"message\": \"Aci Deployment failed with exception: Your container application crashed. This may be caused by errors in your scoring file's init() function.\n",
      "\t1. Please check the logs for your container instance: sklearn-mnist-090119. From the AML SDK, you can run print(service.get_logs()) if you have service object to fetch the logs.\n",
      "\t2. You can interactively debug your scoring file locally. Please refer to https://docs.microsoft.com/azure/machine-learning/how-to-debug-visual-studio-code#debug-and-troubleshoot-deployments for more information.\n",
      "\t3. You can also try to run image viennaglobal.azurecr.io/azureml/azureml_418f04dee9f266fe033713cdf3f1f849 locally. Please refer to https://aka.ms/debugimage#service-launch-fails for more information.\",\n",
      "  \"details\": [\n",
      "    {\n",
      "      \"code\": \"CrashLoopBackOff\",\n",
      "      \"message\": \"Your container application crashed. This may be caused by errors in your scoring file's init() function.\n",
      "\t1. Please check the logs for your container instance: sklearn-mnist-090119. From the AML SDK, you can run print(service.get_logs()) if you have service object to fetch the logs.\n",
      "\t2. You can interactively debug your scoring file locally. Please refer to https://docs.microsoft.com/azure/machine-learning/how-to-debug-visual-studio-code#debug-and-troubleshoot-deployments for more information.\n",
      "\t3. You can also try to run image viennaglobal.azurecr.io/azureml/azureml_418f04dee9f266fe033713cdf3f1f849 locally. Please refer to https://aka.ms/debugimage#service-launch-fails for more information.\"\n",
      "    },\n",
      "    {\n",
      "      \"code\": \"AciDeploymentFailed\",\n",
      "      \"message\": \"Your container application crashed. Please follow the steps to debug:\n",
      "\t1. From the AML SDK, you can run print(service.get_logs()) if you have service object to fetch the logs. Please refer to https://aka.ms/debugimage#dockerlog for more information.\n",
      "\t2. If your container application crashed. This may be caused by errors in your scoring file's init() function. You can try debugging locally first. Please refer to https://aka.ms/debugimage#debug-locally for more information.\n",
      "\t3. You can also interactively debug your scoring file locally. Please refer to https://docs.microsoft.com/azure/machine-learning/how-to-debug-visual-studio-code#debug-and-troubleshoot-deployments for more information.\n",
      "\t4. View the diagnostic events to check status of container, it may help you to debug the issue.\n",
      "\"RestartCount\": 3\n",
      "\"CurrentState\": {\"state\":\"Waiting\",\"startTime\":null,\"exitCode\":null,\"finishTime\":null,\"detailStatus\":\"CrashLoopBackOff: Back-off restarting failed\"}\n",
      "\"PreviousState\": {\"state\":\"Terminated\",\"startTime\":\"2021-09-01T17:08:39.061Z\",\"exitCode\":111,\"finishTime\":\"2021-09-01T17:08:43.858Z\",\"detailStatus\":\"Error\"}\n",
      "\"Events\":\n",
      "{\"count\":2,\"firstTimestamp\":\"2021-09-01T17:03:30Z\",\"lastTimestamp\":\"2021-09-01T17:07:00Z\",\"name\":\"Pulling\",\"message\":\"pulling image \"viennaglobal.azurecr.io/azureml/azureml_418f04dee9f266fe033713cdf3f1f849@sha256:1bccee0e960384dbfe2a4af808039dd1e555c51d089974abb1f19f8d8dfd1c7e\"\",\"type\":\"Normal\"}\n",
      "{\"count\":2,\"firstTimestamp\":\"2021-09-01T17:06:52Z\",\"lastTimestamp\":\"2021-09-01T17:07:02Z\",\"name\":\"Pulled\",\"message\":\"Successfully pulled image \"viennaglobal.azurecr.io/azureml/azureml_418f04dee9f266fe033713cdf3f1f849@sha256:1bccee0e960384dbfe2a4af808039dd1e555c51d089974abb1f19f8d8dfd1c7e\"\",\"type\":\"Normal\"}\n",
      "{\"count\":4,\"firstTimestamp\":\"2021-09-01T17:07:16Z\",\"lastTimestamp\":\"2021-09-01T17:08:39Z\",\"name\":\"Started\",\"message\":\"Started container\",\"type\":\"Normal\"}\n",
      "{\"count\":4,\"firstTimestamp\":\"2021-09-01T17:07:19Z\",\"lastTimestamp\":\"2021-09-01T17:08:43Z\",\"name\":\"Killing\",\"message\":\"Killing container with id 8371f3109b7080463348f90cb42f8cd188e9e83c6e2dcc5348b3886bb177bc19.\",\"type\":\"Normal\"}\n",
      "\"\n",
      "    }\n",
      "  ]\n",
      "}\n",
      "\n"
     ]
    },
    {
     "output_type": "error",
     "ename": "WebserviceException",
     "evalue": "WebserviceException:\n\tMessage: Service deployment polling reached non-successful terminal state, current service state: Failed\nOperation ID: be3fd0f6-69e5-4492-8874-0d383742d098\nMore information can be found using '.get_logs()'\nError:\n{\n  \"code\": \"AciDeploymentFailed\",\n  \"statusCode\": 400,\n  \"message\": \"Aci Deployment failed with exception: Your container application crashed. This may be caused by errors in your scoring file's init() function.\n\t1. Please check the logs for your container instance: sklearn-mnist-090119. From the AML SDK, you can run print(service.get_logs()) if you have service object to fetch the logs.\n\t2. You can interactively debug your scoring file locally. Please refer to https://docs.microsoft.com/azure/machine-learning/how-to-debug-visual-studio-code#debug-and-troubleshoot-deployments for more information.\n\t3. You can also try to run image viennaglobal.azurecr.io/azureml/azureml_418f04dee9f266fe033713cdf3f1f849 locally. Please refer to https://aka.ms/debugimage#service-launch-fails for more information.\",\n  \"details\": [\n    {\n      \"code\": \"CrashLoopBackOff\",\n      \"message\": \"Your container application crashed. This may be caused by errors in your scoring file's init() function.\n\t1. Please check the logs for your container instance: sklearn-mnist-090119. From the AML SDK, you can run print(service.get_logs()) if you have service object to fetch the logs.\n\t2. You can interactively debug your scoring file locally. Please refer to https://docs.microsoft.com/azure/machine-learning/how-to-debug-visual-studio-code#debug-and-troubleshoot-deployments for more information.\n\t3. You can also try to run image viennaglobal.azurecr.io/azureml/azureml_418f04dee9f266fe033713cdf3f1f849 locally. Please refer to https://aka.ms/debugimage#service-launch-fails for more information.\"\n    },\n    {\n      \"code\": \"AciDeploymentFailed\",\n      \"message\": \"Your container application crashed. Please follow the steps to debug:\n\t1. From the AML SDK, you can run print(service.get_logs()) if you have service object to fetch the logs. Please refer to https://aka.ms/debugimage#dockerlog for more information.\n\t2. If your container application crashed. This may be caused by errors in your scoring file's init() function. You can try debugging locally first. Please refer to https://aka.ms/debugimage#debug-locally for more information.\n\t3. You can also interactively debug your scoring file locally. Please refer to https://docs.microsoft.com/azure/machine-learning/how-to-debug-visual-studio-code#debug-and-troubleshoot-deployments for more information.\n\t4. View the diagnostic events to check status of container, it may help you to debug the issue.\n\"RestartCount\": 3\n\"CurrentState\": {\"state\":\"Waiting\",\"startTime\":null,\"exitCode\":null,\"finishTime\":null,\"detailStatus\":\"CrashLoopBackOff: Back-off restarting failed\"}\n\"PreviousState\": {\"state\":\"Terminated\",\"startTime\":\"2021-09-01T17:08:39.061Z\",\"exitCode\":111,\"finishTime\":\"2021-09-01T17:08:43.858Z\",\"detailStatus\":\"Error\"}\n\"Events\":\n{\"count\":2,\"firstTimestamp\":\"2021-09-01T17:03:30Z\",\"lastTimestamp\":\"2021-09-01T17:07:00Z\",\"name\":\"Pulling\",\"message\":\"pulling image \"viennaglobal.azurecr.io/azureml/azureml_418f04dee9f266fe033713cdf3f1f849@sha256:1bccee0e960384dbfe2a4af808039dd1e555c51d089974abb1f19f8d8dfd1c7e\"\",\"type\":\"Normal\"}\n{\"count\":2,\"firstTimestamp\":\"2021-09-01T17:06:52Z\",\"lastTimestamp\":\"2021-09-01T17:07:02Z\",\"name\":\"Pulled\",\"message\":\"Successfully pulled image \"viennaglobal.azurecr.io/azureml/azureml_418f04dee9f266fe033713cdf3f1f849@sha256:1bccee0e960384dbfe2a4af808039dd1e555c51d089974abb1f19f8d8dfd1c7e\"\",\"type\":\"Normal\"}\n{\"count\":4,\"firstTimestamp\":\"2021-09-01T17:07:16Z\",\"lastTimestamp\":\"2021-09-01T17:08:39Z\",\"name\":\"Started\",\"message\":\"Started container\",\"type\":\"Normal\"}\n{\"count\":4,\"firstTimestamp\":\"2021-09-01T17:07:19Z\",\"lastTimestamp\":\"2021-09-01T17:08:43Z\",\"name\":\"Killing\",\"message\":\"Killing container with id 8371f3109b7080463348f90cb42f8cd188e9e83c6e2dcc5348b3886bb177bc19.\",\"type\":\"Normal\"}\n\"\n    }\n  ]\n}\n\tInnerException None\n\tErrorResponse \n{\n    \"error\": {\n        \"message\": \"Service deployment polling reached non-successful terminal state, current service state: Failed\\nOperation ID: be3fd0f6-69e5-4492-8874-0d383742d098\\nMore information can be found using '.get_logs()'\\nError:\\n{\\n  \\\"code\\\": \\\"AciDeploymentFailed\\\",\\n  \\\"statusCode\\\": 400,\\n  \\\"message\\\": \\\"Aci Deployment failed with exception: Your container application crashed. This may be caused by errors in your scoring file's init() function.\\n\\t1. Please check the logs for your container instance: sklearn-mnist-090119. From the AML SDK, you can run print(service.get_logs()) if you have service object to fetch the logs.\\n\\t2. You can interactively debug your scoring file locally. Please refer to https://docs.microsoft.com/azure/machine-learning/how-to-debug-visual-studio-code#debug-and-troubleshoot-deployments for more information.\\n\\t3. You can also try to run image viennaglobal.azurecr.io/azureml/azureml_418f04dee9f266fe033713cdf3f1f849 locally. Please refer to https://aka.ms/debugimage#service-launch-fails for more information.\\\",\\n  \\\"details\\\": [\\n    {\\n      \\\"code\\\": \\\"CrashLoopBackOff\\\",\\n      \\\"message\\\": \\\"Your container application crashed. This may be caused by errors in your scoring file's init() function.\\n\\t1. Please check the logs for your container instance: sklearn-mnist-090119. From the AML SDK, you can run print(service.get_logs()) if you have service object to fetch the logs.\\n\\t2. You can interactively debug your scoring file locally. Please refer to https://docs.microsoft.com/azure/machine-learning/how-to-debug-visual-studio-code#debug-and-troubleshoot-deployments for more information.\\n\\t3. You can also try to run image viennaglobal.azurecr.io/azureml/azureml_418f04dee9f266fe033713cdf3f1f849 locally. Please refer to https://aka.ms/debugimage#service-launch-fails for more information.\\\"\\n    },\\n    {\\n      \\\"code\\\": \\\"AciDeploymentFailed\\\",\\n      \\\"message\\\": \\\"Your container application crashed. Please follow the steps to debug:\\n\\t1. From the AML SDK, you can run print(service.get_logs()) if you have service object to fetch the logs. Please refer to https://aka.ms/debugimage#dockerlog for more information.\\n\\t2. If your container application crashed. This may be caused by errors in your scoring file's init() function. You can try debugging locally first. Please refer to https://aka.ms/debugimage#debug-locally for more information.\\n\\t3. You can also interactively debug your scoring file locally. Please refer to https://docs.microsoft.com/azure/machine-learning/how-to-debug-visual-studio-code#debug-and-troubleshoot-deployments for more information.\\n\\t4. View the diagnostic events to check status of container, it may help you to debug the issue.\\n\\\"RestartCount\\\": 3\\n\\\"CurrentState\\\": {\\\"state\\\":\\\"Waiting\\\",\\\"startTime\\\":null,\\\"exitCode\\\":null,\\\"finishTime\\\":null,\\\"detailStatus\\\":\\\"CrashLoopBackOff: Back-off restarting failed\\\"}\\n\\\"PreviousState\\\": {\\\"state\\\":\\\"Terminated\\\",\\\"startTime\\\":\\\"2021-09-01T17:08:39.061Z\\\",\\\"exitCode\\\":111,\\\"finishTime\\\":\\\"2021-09-01T17:08:43.858Z\\\",\\\"detailStatus\\\":\\\"Error\\\"}\\n\\\"Events\\\":\\n{\\\"count\\\":2,\\\"firstTimestamp\\\":\\\"2021-09-01T17:03:30Z\\\",\\\"lastTimestamp\\\":\\\"2021-09-01T17:07:00Z\\\",\\\"name\\\":\\\"Pulling\\\",\\\"message\\\":\\\"pulling image \\\"viennaglobal.azurecr.io/azureml/azureml_418f04dee9f266fe033713cdf3f1f849@sha256:1bccee0e960384dbfe2a4af808039dd1e555c51d089974abb1f19f8d8dfd1c7e\\\"\\\",\\\"type\\\":\\\"Normal\\\"}\\n{\\\"count\\\":2,\\\"firstTimestamp\\\":\\\"2021-09-01T17:06:52Z\\\",\\\"lastTimestamp\\\":\\\"2021-09-01T17:07:02Z\\\",\\\"name\\\":\\\"Pulled\\\",\\\"message\\\":\\\"Successfully pulled image \\\"viennaglobal.azurecr.io/azureml/azureml_418f04dee9f266fe033713cdf3f1f849@sha256:1bccee0e960384dbfe2a4af808039dd1e555c51d089974abb1f19f8d8dfd1c7e\\\"\\\",\\\"type\\\":\\\"Normal\\\"}\\n{\\\"count\\\":4,\\\"firstTimestamp\\\":\\\"2021-09-01T17:07:16Z\\\",\\\"lastTimestamp\\\":\\\"2021-09-01T17:08:39Z\\\",\\\"name\\\":\\\"Started\\\",\\\"message\\\":\\\"Started container\\\",\\\"type\\\":\\\"Normal\\\"}\\n{\\\"count\\\":4,\\\"firstTimestamp\\\":\\\"2021-09-01T17:07:19Z\\\",\\\"lastTimestamp\\\":\\\"2021-09-01T17:08:43Z\\\",\\\"name\\\":\\\"Killing\\\",\\\"message\\\":\\\"Killing container with id 8371f3109b7080463348f90cb42f8cd188e9e83c6e2dcc5348b3886bb177bc19.\\\",\\\"type\\\":\\\"Normal\\\"}\\n\\\"\\n    }\\n  ]\\n}\"\n    }\n}",
     "traceback": [
      "\u001b[1;31m---------------------------------------------------------------------------\u001b[0m",
      "\u001b[1;31mWebserviceException\u001b[0m                       Traceback (most recent call last)",
      "\u001b[1;32m<ipython-input-22-4494f82db79a>\u001b[0m in \u001b[0;36m<module>\u001b[1;34m\u001b[0m\n\u001b[0;32m     28\u001b[0m                        deployment_config=aciconfig)\n\u001b[0;32m     29\u001b[0m \u001b[1;33m\u001b[0m\u001b[0m\n\u001b[1;32m---> 30\u001b[1;33m \u001b[0mservice\u001b[0m\u001b[1;33m.\u001b[0m\u001b[0mwait_for_deployment\u001b[0m\u001b[1;33m(\u001b[0m\u001b[0mshow_output\u001b[0m\u001b[1;33m=\u001b[0m\u001b[1;32mTrue\u001b[0m\u001b[1;33m)\u001b[0m\u001b[1;33m\u001b[0m\u001b[1;33m\u001b[0m\u001b[0m\n\u001b[0m",
      "\u001b[1;32m~\\Anaconda3\\lib\\site-packages\\azureml\\core\\webservice\\webservice.py\u001b[0m in \u001b[0;36mwait_for_deployment\u001b[1;34m(self, show_output, timeout_sec)\u001b[0m\n\u001b[0;32m    917\u001b[0m                     \u001b[0mlogs_response\u001b[0m \u001b[1;33m=\u001b[0m \u001b[1;34m'Current sub-operation type not known, more logs unavailable.'\u001b[0m\u001b[1;33m\u001b[0m\u001b[1;33m\u001b[0m\u001b[0m\n\u001b[0;32m    918\u001b[0m \u001b[1;33m\u001b[0m\u001b[0m\n\u001b[1;32m--> 919\u001b[1;33m                 raise WebserviceException('Service deployment polling reached non-successful terminal state, current '\n\u001b[0m\u001b[0;32m    920\u001b[0m                                           \u001b[1;34m'service state: {}\\n'\u001b[0m\u001b[1;33m\u001b[0m\u001b[1;33m\u001b[0m\u001b[0m\n\u001b[0;32m    921\u001b[0m                                           \u001b[1;34m'Operation ID: {}\\n'\u001b[0m\u001b[1;33m\u001b[0m\u001b[1;33m\u001b[0m\u001b[0m\n",
      "\u001b[1;31mWebserviceException\u001b[0m: WebserviceException:\n\tMessage: Service deployment polling reached non-successful terminal state, current service state: Failed\nOperation ID: be3fd0f6-69e5-4492-8874-0d383742d098\nMore information can be found using '.get_logs()'\nError:\n{\n  \"code\": \"AciDeploymentFailed\",\n  \"statusCode\": 400,\n  \"message\": \"Aci Deployment failed with exception: Your container application crashed. This may be caused by errors in your scoring file's init() function.\n\t1. Please check the logs for your container instance: sklearn-mnist-090119. From the AML SDK, you can run print(service.get_logs()) if you have service object to fetch the logs.\n\t2. You can interactively debug your scoring file locally. Please refer to https://docs.microsoft.com/azure/machine-learning/how-to-debug-visual-studio-code#debug-and-troubleshoot-deployments for more information.\n\t3. You can also try to run image viennaglobal.azurecr.io/azureml/azureml_418f04dee9f266fe033713cdf3f1f849 locally. Please refer to https://aka.ms/debugimage#service-launch-fails for more information.\",\n  \"details\": [\n    {\n      \"code\": \"CrashLoopBackOff\",\n      \"message\": \"Your container application crashed. This may be caused by errors in your scoring file's init() function.\n\t1. Please check the logs for your container instance: sklearn-mnist-090119. From the AML SDK, you can run print(service.get_logs()) if you have service object to fetch the logs.\n\t2. You can interactively debug your scoring file locally. Please refer to https://docs.microsoft.com/azure/machine-learning/how-to-debug-visual-studio-code#debug-and-troubleshoot-deployments for more information.\n\t3. You can also try to run image viennaglobal.azurecr.io/azureml/azureml_418f04dee9f266fe033713cdf3f1f849 locally. Please refer to https://aka.ms/debugimage#service-launch-fails for more information.\"\n    },\n    {\n      \"code\": \"AciDeploymentFailed\",\n      \"message\": \"Your container application crashed. Please follow the steps to debug:\n\t1. From the AML SDK, you can run print(service.get_logs()) if you have service object to fetch the logs. Please refer to https://aka.ms/debugimage#dockerlog for more information.\n\t2. If your container application crashed. This may be caused by errors in your scoring file's init() function. You can try debugging locally first. Please refer to https://aka.ms/debugimage#debug-locally for more information.\n\t3. You can also interactively debug your scoring file locally. Please refer to https://docs.microsoft.com/azure/machine-learning/how-to-debug-visual-studio-code#debug-and-troubleshoot-deployments for more information.\n\t4. View the diagnostic events to check status of container, it may help you to debug the issue.\n\"RestartCount\": 3\n\"CurrentState\": {\"state\":\"Waiting\",\"startTime\":null,\"exitCode\":null,\"finishTime\":null,\"detailStatus\":\"CrashLoopBackOff: Back-off restarting failed\"}\n\"PreviousState\": {\"state\":\"Terminated\",\"startTime\":\"2021-09-01T17:08:39.061Z\",\"exitCode\":111,\"finishTime\":\"2021-09-01T17:08:43.858Z\",\"detailStatus\":\"Error\"}\n\"Events\":\n{\"count\":2,\"firstTimestamp\":\"2021-09-01T17:03:30Z\",\"lastTimestamp\":\"2021-09-01T17:07:00Z\",\"name\":\"Pulling\",\"message\":\"pulling image \"viennaglobal.azurecr.io/azureml/azureml_418f04dee9f266fe033713cdf3f1f849@sha256:1bccee0e960384dbfe2a4af808039dd1e555c51d089974abb1f19f8d8dfd1c7e\"\",\"type\":\"Normal\"}\n{\"count\":2,\"firstTimestamp\":\"2021-09-01T17:06:52Z\",\"lastTimestamp\":\"2021-09-01T17:07:02Z\",\"name\":\"Pulled\",\"message\":\"Successfully pulled image \"viennaglobal.azurecr.io/azureml/azureml_418f04dee9f266fe033713cdf3f1f849@sha256:1bccee0e960384dbfe2a4af808039dd1e555c51d089974abb1f19f8d8dfd1c7e\"\",\"type\":\"Normal\"}\n{\"count\":4,\"firstTimestamp\":\"2021-09-01T17:07:16Z\",\"lastTimestamp\":\"2021-09-01T17:08:39Z\",\"name\":\"Started\",\"message\":\"Started container\",\"type\":\"Normal\"}\n{\"count\":4,\"firstTimestamp\":\"2021-09-01T17:07:19Z\",\"lastTimestamp\":\"2021-09-01T17:08:43Z\",\"name\":\"Killing\",\"message\":\"Killing container with id 8371f3109b7080463348f90cb42f8cd188e9e83c6e2dcc5348b3886bb177bc19.\",\"type\":\"Normal\"}\n\"\n    }\n  ]\n}\n\tInnerException None\n\tErrorResponse \n{\n    \"error\": {\n        \"message\": \"Service deployment polling reached non-successful terminal state, current service state: Failed\\nOperation ID: be3fd0f6-69e5-4492-8874-0d383742d098\\nMore information can be found using '.get_logs()'\\nError:\\n{\\n  \\\"code\\\": \\\"AciDeploymentFailed\\\",\\n  \\\"statusCode\\\": 400,\\n  \\\"message\\\": \\\"Aci Deployment failed with exception: Your container application crashed. This may be caused by errors in your scoring file's init() function.\\n\\t1. Please check the logs for your container instance: sklearn-mnist-090119. From the AML SDK, you can run print(service.get_logs()) if you have service object to fetch the logs.\\n\\t2. You can interactively debug your scoring file locally. Please refer to https://docs.microsoft.com/azure/machine-learning/how-to-debug-visual-studio-code#debug-and-troubleshoot-deployments for more information.\\n\\t3. You can also try to run image viennaglobal.azurecr.io/azureml/azureml_418f04dee9f266fe033713cdf3f1f849 locally. Please refer to https://aka.ms/debugimage#service-launch-fails for more information.\\\",\\n  \\\"details\\\": [\\n    {\\n      \\\"code\\\": \\\"CrashLoopBackOff\\\",\\n      \\\"message\\\": \\\"Your container application crashed. This may be caused by errors in your scoring file's init() function.\\n\\t1. Please check the logs for your container instance: sklearn-mnist-090119. From the AML SDK, you can run print(service.get_logs()) if you have service object to fetch the logs.\\n\\t2. You can interactively debug your scoring file locally. Please refer to https://docs.microsoft.com/azure/machine-learning/how-to-debug-visual-studio-code#debug-and-troubleshoot-deployments for more information.\\n\\t3. You can also try to run image viennaglobal.azurecr.io/azureml/azureml_418f04dee9f266fe033713cdf3f1f849 locally. Please refer to https://aka.ms/debugimage#service-launch-fails for more information.\\\"\\n    },\\n    {\\n      \\\"code\\\": \\\"AciDeploymentFailed\\\",\\n      \\\"message\\\": \\\"Your container application crashed. Please follow the steps to debug:\\n\\t1. From the AML SDK, you can run print(service.get_logs()) if you have service object to fetch the logs. Please refer to https://aka.ms/debugimage#dockerlog for more information.\\n\\t2. If your container application crashed. This may be caused by errors in your scoring file's init() function. You can try debugging locally first. Please refer to https://aka.ms/debugimage#debug-locally for more information.\\n\\t3. You can also interactively debug your scoring file locally. Please refer to https://docs.microsoft.com/azure/machine-learning/how-to-debug-visual-studio-code#debug-and-troubleshoot-deployments for more information.\\n\\t4. View the diagnostic events to check status of container, it may help you to debug the issue.\\n\\\"RestartCount\\\": 3\\n\\\"CurrentState\\\": {\\\"state\\\":\\\"Waiting\\\",\\\"startTime\\\":null,\\\"exitCode\\\":null,\\\"finishTime\\\":null,\\\"detailStatus\\\":\\\"CrashLoopBackOff: Back-off restarting failed\\\"}\\n\\\"PreviousState\\\": {\\\"state\\\":\\\"Terminated\\\",\\\"startTime\\\":\\\"2021-09-01T17:08:39.061Z\\\",\\\"exitCode\\\":111,\\\"finishTime\\\":\\\"2021-09-01T17:08:43.858Z\\\",\\\"detailStatus\\\":\\\"Error\\\"}\\n\\\"Events\\\":\\n{\\\"count\\\":2,\\\"firstTimestamp\\\":\\\"2021-09-01T17:03:30Z\\\",\\\"lastTimestamp\\\":\\\"2021-09-01T17:07:00Z\\\",\\\"name\\\":\\\"Pulling\\\",\\\"message\\\":\\\"pulling image \\\"viennaglobal.azurecr.io/azureml/azureml_418f04dee9f266fe033713cdf3f1f849@sha256:1bccee0e960384dbfe2a4af808039dd1e555c51d089974abb1f19f8d8dfd1c7e\\\"\\\",\\\"type\\\":\\\"Normal\\\"}\\n{\\\"count\\\":2,\\\"firstTimestamp\\\":\\\"2021-09-01T17:06:52Z\\\",\\\"lastTimestamp\\\":\\\"2021-09-01T17:07:02Z\\\",\\\"name\\\":\\\"Pulled\\\",\\\"message\\\":\\\"Successfully pulled image \\\"viennaglobal.azurecr.io/azureml/azureml_418f04dee9f266fe033713cdf3f1f849@sha256:1bccee0e960384dbfe2a4af808039dd1e555c51d089974abb1f19f8d8dfd1c7e\\\"\\\",\\\"type\\\":\\\"Normal\\\"}\\n{\\\"count\\\":4,\\\"firstTimestamp\\\":\\\"2021-09-01T17:07:16Z\\\",\\\"lastTimestamp\\\":\\\"2021-09-01T17:08:39Z\\\",\\\"name\\\":\\\"Started\\\",\\\"message\\\":\\\"Started container\\\",\\\"type\\\":\\\"Normal\\\"}\\n{\\\"count\\\":4,\\\"firstTimestamp\\\":\\\"2021-09-01T17:07:19Z\\\",\\\"lastTimestamp\\\":\\\"2021-09-01T17:08:43Z\\\",\\\"name\\\":\\\"Killing\\\",\\\"message\\\":\\\"Killing container with id 8371f3109b7080463348f90cb42f8cd188e9e83c6e2dcc5348b3886bb177bc19.\\\",\\\"type\\\":\\\"Normal\\\"}\\n\\\"\\n    }\\n  ]\\n}\"\n    }\n}"
     ]
    }
   ],
   "metadata": {}
  },
  {
   "cell_type": "code",
   "execution_count": 23,
   "source": [
    "print(service.get_logs()) "
   ],
   "outputs": [
    {
     "output_type": "stream",
     "name": "stdout",
     "text": [
      "None\n"
     ]
    }
   ],
   "metadata": {}
  },
  {
   "cell_type": "code",
   "execution_count": null,
   "source": [
    "print(\"Status=\", service.state)\r\n",
    "print(\"Scoring URL:\", service.scoring_uri)\r\n",
    "print(service.get_logs())"
   ],
   "outputs": [],
   "metadata": {}
  }
 ],
 "metadata": {
  "orig_nbformat": 4,
  "language_info": {
   "name": "python",
   "version": "3.8.8",
   "mimetype": "text/x-python",
   "codemirror_mode": {
    "name": "ipython",
    "version": 3
   },
   "pygments_lexer": "ipython3",
   "nbconvert_exporter": "python",
   "file_extension": ".py"
  },
  "kernelspec": {
   "name": "python3",
   "display_name": "Python 3.8.8 64-bit ('base': conda)"
  },
  "interpreter": {
   "hash": "f4d2fc3f9599656570a986cacd0f8fb633e1f5eb6c0d7edd902095b821fab887"
  }
 },
 "nbformat": 4,
 "nbformat_minor": 2
}