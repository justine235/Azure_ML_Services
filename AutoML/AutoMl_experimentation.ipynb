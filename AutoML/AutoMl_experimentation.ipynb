{
 "cells": [
  {
   "cell_type": "code",
   "execution_count": null,
   "source": [
    "from azureml.train.automl import AutoMLConfig\r\n",
    "# connection au WS\r\n",
    "from azureml.core import Workspace,RunConfiguration\r\n",
    "from azureml.core.compute import ComputeTarget, AmlCompute\r\n",
    "\r\n",
    "ws = Workspace.from_config()\r\n",
    "ws.get_details()\r\n",
    "\r\n",
    "# Execution du script en tant qu'experience\r\n",
    "from azureml.core import Experiment, ScriptRunConfig, Environment\r\n",
    "from azureml.core.conda_dependencies import CondaDependencies\r\n",
    "import pandas as pd\r\n",
    "\r\n",
    "train_dataset = pd.read_csv('data/train_dataset.csv')\r\n",
    "test_dataset = pd.read_csv('data/test_dataset.csv')\r\n",
    "\r\n",
    "automl_run_config = RunConfiguration(framework='python')\r\n",
    "automl_config = AutoMLConfig(name='Automated ML Experiment',\r\n",
    "                             task='classification',\r\n",
    "                             primary_metric = 'AUC_weighted',\r\n",
    "                             compute_target= 'jcharley1',\r\n",
    "                             training_data = 'data/train_dataset.csv',\r\n",
    "                             validation_data = 'data/test_dataset.csv',\r\n",
    "                             label_column_name='EmployeeTargeted',\r\n",
    "                             featurization='auto',\r\n",
    "                             iterations=12,\r\n",
    "                             max_concurrent_iterations=4)\r\n",
    "\r\n",
    " # Specifier la métrique\r\n",
    "from azureml.train.automl.utilities import get_primary_metrics\r\n",
    "get_primary_metrics('classification')\r\n",
    "\r\n",
    "\r\n",
    "# Lancement \r\n",
    "from azureml.core.experiment import Experiment\r\n",
    "\r\n",
    "automl_experiment = Experiment(ws, 'automl_experiment')\r\n",
    "automl_run = automl_experiment.submit(automl_config)"
   ],
   "outputs": [],
   "metadata": {}
  },
  {
   "cell_type": "code",
   "execution_count": null,
   "source": [
    "# recuperer le best model\r\n",
    "best_run, fitted_model = automl_run.get_output()\r\n",
    "best_run_metrics = best_run.get_metrics()\r\n",
    "for metric_name in best_run_metrics:\r\n",
    "    metric = best_run_metrics[metric_name]\r\n",
    "    print(metric_name, metric)"
   ],
   "outputs": [],
   "metadata": {}
  },
  {
   "cell_type": "code",
   "execution_count": null,
   "source": [
    "# observer les etapes\r\n",
    "for step_ in fitted_model.named_steps:\r\n",
    "    print(step_)"
   ],
   "outputs": [],
   "metadata": {}
  },
  {
   "cell_type": "code",
   "execution_count": null,
   "source": [],
   "outputs": [],
   "metadata": {}
  },
  {
   "cell_type": "code",
   "execution_count": null,
   "source": [
    "train_dataset = pd.read_csv('data/train_dataset.csv', sep=';')\r\n",
    "train_dataset.describe()"
   ],
   "outputs": [],
   "metadata": {}
  }
 ],
 "metadata": {
  "orig_nbformat": 4,
  "language_info": {
   "name": "python",
   "version": "3.8.8",
   "mimetype": "text/x-python",
   "codemirror_mode": {
    "name": "ipython",
    "version": 3
   },
   "pygments_lexer": "ipython3",
   "nbconvert_exporter": "python",
   "file_extension": ".py"
  },
  "kernelspec": {
   "name": "python3",
   "display_name": "Python 3.8.8 64-bit ('base': conda)"
  },
  "interpreter": {
   "hash": "f4d2fc3f9599656570a986cacd0f8fb633e1f5eb6c0d7edd902095b821fab887"
  }
 },
 "nbformat": 4,
 "nbformat_minor": 2
}