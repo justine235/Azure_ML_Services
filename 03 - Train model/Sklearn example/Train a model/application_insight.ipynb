{
 "cells": [
  {
   "cell_type": "code",
   "execution_count": null,
   "source": [
    "from azureml.core import Workspace\r\n",
    "\r\n",
    "ws = Workspace.from_config()\r\n",
    "ws.get_details()['applicationInsights']"
   ],
   "outputs": [],
   "metadata": {}
  },
  {
   "cell_type": "code",
   "execution_count": null,
   "source": [
    " # activer application insight\r\n",
    "from azureml.core.webservice import AciWebservice\r\n",
    "dep_config = AciWebservice.deploy_configuration(cpu_cores = 1,\r\n",
    "                                                memory_gb = 1,\r\n",
    "                                                enable_app_insights=True)\r\n",
    "\r\n",
    "service = ws.webservices['my-svc']\r\n",
    "service.update(enable_app_insights=True)\r\n",
    "\r\n",
    "def init():\r\n",
    "    global model\r\n",
    "    model = joblib.load(Model.get_model_path('my_model'))\r\n",
    "def run(raw_data):\r\n",
    "    data = json.loads(raw_data)['data']\r\n",
    "    predictions = model.predict(data)\r\n",
    "    log_txt = 'Data:' + str(data) + ' - Predictions:' + str(predictions)\r\n",
    "    print(log_txt)\r\n",
    "    return predictions.tolist()"
   ],
   "outputs": [],
   "metadata": {}
  }
 ],
 "metadata": {
  "orig_nbformat": 4,
  "language_info": {
   "name": "python",
   "version": "3.8.8",
   "mimetype": "text/x-python",
   "codemirror_mode": {
    "name": "ipython",
    "version": 3
   },
   "pygments_lexer": "ipython3",
   "nbconvert_exporter": "python",
   "file_extension": ".py"
  },
  "kernelspec": {
   "name": "python3",
   "display_name": "Python 3.8.8 64-bit ('base': conda)"
  },
  "interpreter": {
   "hash": "f4d2fc3f9599656570a986cacd0f8fb633e1f5eb6c0d7edd902095b821fab887"
  }
 },
 "nbformat": 4,
 "nbformat_minor": 2
}