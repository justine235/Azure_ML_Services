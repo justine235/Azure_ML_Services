{
 "cells": [
  {
   "cell_type": "markdown",
   "source": [
    "ESPACE DE RECHERCHE / HYPERPARAMETRE"
   ],
   "metadata": {}
  },
  {
   "cell_type": "code",
   "execution_count": null,
   "source": [
    "%%writefile conda_dependencies.yml\r\n",
    "\r\n",
    "dependencies:\r\n",
    "- python=3.6.2\r\n",
    "- scikit-learn=0.24.1\r\n",
    "- pip:\r\n",
    "  - numpy==1.19.5\r\n",
    "  - pandas==0.25.3\r\n",
    "  - azureml-defaults\r\n",
    "\r\n",
    "from azureml.core import Environment\r\n",
    "sklearn_env = Environment.from_conda_specification(name = 'sklearn-env', file_path = './conda_dependencies.yml')"
   ],
   "outputs": [],
   "metadata": {}
  },
  {
   "cell_type": "code",
   "execution_count": null,
   "source": [
    "#-------------------------- ETAPE 1 : MODEL INIT\r\n",
    "\r\n",
    "# connection au WS\r\n",
    "from azureml.core import Workspace\r\n",
    "ws = Workspace.from_config()\r\n",
    "ws.get_details()\r\n",
    "\r\n",
    "# Execution du script en tant qu'experience\r\n",
    "from azureml.core import Experiment, ScriptRunConfig, Environment\r\n",
    "from azureml.core.conda_dependencies import CondaDependencies\r\n",
    "from azureml.train.hyperdrive import HyperDriveConfig, PrimaryMetricGoal,RandomParameterSampling\r\n",
    "\r\n",
    "# Create a Python environment for the experiment\r\n",
    "#sklearn_env = Environment(\"sklearn-env\")\r\n",
    "\r\n",
    "# Ensure the required packages are installed\r\n",
    "packages = CondaDependencies.create(conda_packages=['scikit-learn','pip'],\r\n",
    "                                    pip_packages=['azureml-defaults'])\r\n",
    "sklearn_env.python.conda_dependencies = packages\r\n",
    "\r\n",
    "# Create a script config + target compute ressource\r\n",
    "script_config = ScriptRunConfig(source_directory=\".\",\r\n",
    "                                script='training_script_hyperparametres.py',\r\n",
    "                                compute_target = 'jcharley2',\r\n",
    "                                environment=sklearn_env) \r\n",
    "\r\n",
    "# Submit the experiment\r\n",
    "experiment = Experiment(workspace=ws, name='test_hyperparametres')\r\n",
    "run  = experiment.submit(config=script_config)\r\n",
    "\r\n",
    "from azureml.widgets import RunDetails\r\n",
    "RunDetails(run).show()"
   ],
   "outputs": [],
   "metadata": {}
  },
  {
   "cell_type": "code",
   "execution_count": null,
   "source": [
    "# save \r\n",
    "from azureml.core import Model\r\n",
    "from azureml.core.resource_configuration import ResourceConfiguration\r\n",
    "\r\n",
    "model = run.register_model(model_name='modele3', \r\n",
    "                           model_path='outputs/model.pkl',\r\n",
    "                           model_framework=Model.Framework.SCIKITLEARN,\r\n",
    "                           model_framework_version='0.24.1',\r\n",
    "                           resource_configuration=ResourceConfiguration(cpu=1, memory_in_gb=0.5))\r\n",
    "\r\n",
    "# deploy\r\n",
    "hosting_model = Model.deploy(ws, \"modele3\", [model])"
   ],
   "outputs": [],
   "metadata": {}
  },
  {
   "cell_type": "code",
   "execution_count": null,
   "source": [
    "run.wait_for_completion(show_output=True)"
   ],
   "outputs": [],
   "metadata": {}
  },
  {
   "cell_type": "code",
   "execution_count": null,
   "source": [
    "#-------------------------- ETAPE 2 : TUNNING PARAMETERS\r\n",
    "# Espace de recherche des hyperparamètres\r\n",
    "from azureml.train.hyperdrive.runconfig import HyperDriveConfig\r\n",
    "from azureml.train.hyperdrive.sampling import RandomParameterSampling\r\n",
    "from azureml.train.hyperdrive.run import PrimaryMetricGoal\r\n",
    "from azureml.train.hyperdrive.parameter_expressions import choice\r\n",
    "    \r\n",
    "\r\n",
    "param_sampling = RandomParameterSampling( {\r\n",
    "    \"--n_estimators\": choice(15, 50, 100, 200, 300),\r\n",
    "    \"--criterion\": choice(\"gini\", \"entropy\")\r\n",
    "    }\r\n",
    ")\r\n",
    "\r\n",
    "\r\n",
    "hyperdrive_config = HyperDriveConfig(run_config=script_config,\r\n",
    "                                     hyperparameter_sampling=param_sampling, \r\n",
    "                                     primary_metric_name='accuracy',\r\n",
    "                                     primary_metric_goal=PrimaryMetricGoal.MAXIMIZE,\r\n",
    "                                     max_total_runs=8,\r\n",
    "                                     max_concurrent_runs=4)\r\n",
    "\r\n",
    "# start the HyperDrive run\r\n",
    "hyperdrive_run = experiment.submit(hyperdrive_config)\r\n",
    "RunDetails(hyperdrive_run).show()"
   ],
   "outputs": [],
   "metadata": {}
  },
  {
   "cell_type": "code",
   "execution_count": null,
   "source": [
    "for child_run in run.get_children():\r\n",
    "    print(child_run.id, child_run.get_metrics())"
   ],
   "outputs": [],
   "metadata": {}
  },
  {
   "cell_type": "code",
   "execution_count": null,
   "source": [
    "#-------------------------- ETAPE 3 : ENREGISTREMENT\r\n",
    "\r\n",
    "#récuperer le plus performant\r\n",
    "best_run = hyperdrive_run.get_best_run_by_primary_metric()\r\n",
    "print(best_run.get_details()['runDefinition']['arguments'])"
   ],
   "outputs": [],
   "metadata": {}
  },
  {
   "cell_type": "code",
   "execution_count": null,
   "source": [
    "#host / save the best one \r\n",
    "model = best_run.register_model(model_name='rf_tuning', model_path='outputs/model_rf.joblib')"
   ],
   "outputs": [],
   "metadata": {}
  }
 ],
 "metadata": {
  "orig_nbformat": 4,
  "language_info": {
   "name": "python",
   "version": "3.8.8",
   "mimetype": "text/x-python",
   "codemirror_mode": {
    "name": "ipython",
    "version": 3
   },
   "pygments_lexer": "ipython3",
   "nbconvert_exporter": "python",
   "file_extension": ".py"
  },
  "kernelspec": {
   "name": "python3",
   "display_name": "Python 3.8.8 64-bit ('base': conda)"
  },
  "interpreter": {
   "hash": "f4d2fc3f9599656570a986cacd0f8fb633e1f5eb6c0d7edd902095b821fab887"
  }
 },
 "nbformat": 4,
 "nbformat_minor": 2
}