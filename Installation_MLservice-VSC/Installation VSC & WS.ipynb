{
 "cells": [
  {
   "cell_type": "code",
   "execution_count": null,
   "source": [
    "!pip install azureml-sdk\r\n",
    "!pip install azureml-sdk azureml-widgets\r\n",
    "!pip install azureml\r\n",
    "\r\n"
   ],
   "outputs": [],
   "metadata": {}
  },
  {
   "cell_type": "markdown",
   "source": [
    "CREER UN WS depuis VSC"
   ],
   "metadata": {}
  },
  {
   "cell_type": "code",
   "execution_count": null,
   "source": [
    " #Create a WS\r\n",
    "from azureml.core import Workspace\r\n",
    "ws = Workspace.create(name='training_MLservices',\r\n",
    "           subscription_id='a0f4cddc-a66a-4dcc-9df7-ccbd7f81bf7b',\r\n",
    "           resource_group='learning',\r\n",
    "           create_resource_group=True,\r\n",
    "           location='eastus2'\r\n",
    ")"
   ],
   "outputs": [],
   "metadata": {}
  },
  {
   "cell_type": "code",
   "execution_count": null,
   "source": [
    "# Save the WS config file\r\n",
    "from azureml.core import Workspace\r\n",
    "ws.write_config(file_name=\"config.json\")"
   ],
   "outputs": [],
   "metadata": {}
  },
  {
   "cell_type": "code",
   "execution_count": null,
   "source": [
    "# load the WS\r\n",
    "ws = Workspace.from_config()\r\n",
    "ws.get_details()"
   ],
   "outputs": [],
   "metadata": {}
  },
  {
   "cell_type": "markdown",
   "source": [
    "ENVIRONNEMENT EXPERIENCE"
   ],
   "metadata": {}
  },
  {
   "cell_type": "code",
   "execution_count": null,
   "source": [
    " # Create an experience\r\n",
    " from azureml.core import Experiment\r\n",
    "\r\n",
    "# create an experiment variable\r\n",
    "experiment = Experiment(workspace = ws, name = 'test1')\r\n"
   ],
   "outputs": [],
   "metadata": {}
  },
  {
   "cell_type": "markdown",
   "source": [
    "JOURNALISATION DES METRIQUES"
   ],
   "metadata": {}
  },
  {
   "cell_type": "code",
   "execution_count": null,
   "source": [
    " # Dénombrement du nombre de ligne \r\n",
    "from azureml.core import Experiment\r\n",
    "import pandas as pd\r\n",
    "\r\n",
    "# Create an Azure ML experiment in your workspace\r\n",
    "experiment = Experiment(workspace = ws, name = 'my-experiment')\r\n",
    "\r\n",
    "# Start logging data from the experiment\r\n",
    "run = experiment.start_logging()\r\n",
    "\r\n",
    "# load the dataset and count the rows\r\n",
    "data = pd.read_csv('data/data.csv')\r\n",
    "row_count = (len(data))\r\n",
    "\r\n",
    "# Log the row count\r\n",
    "run.log('observations', row_count)\r\n",
    "\r\n",
    "# Complete the experiment\r\n",
    "run.complete()"
   ],
   "outputs": [],
   "metadata": {}
  },
  {
   "cell_type": "code",
   "execution_count": null,
   "source": [
    "\t\r\n",
    "from azureml.widgets import RunDetails\r\n",
    "RunDetails(run).show()"
   ],
   "outputs": [],
   "metadata": {}
  },
  {
   "cell_type": "markdown",
   "source": [
    "RUN END TO END FROM EXTERNAL SCRIPT"
   ],
   "metadata": {}
  },
  {
   "cell_type": "code",
   "execution_count": null,
   "source": [
    "from azureml.core import Experiment, ScriptRunConfig\r\n",
    "\r\n",
    "# Create a script config\r\n",
    "script_config = ScriptRunConfig(script='experiment_folder/script_experience.py') \r\n",
    "# => \"source_directory\" argument can be added\r\n",
    "\r\n",
    "\r\n",
    "# submit the experiment\r\n",
    "experiment = Experiment(workspace = ws, name = 'test2')\r\n",
    "run = experiment.submit(config=script_config)\r\n",
    "run.wait_for_completion(show_output=True)"
   ],
   "outputs": [],
   "metadata": {}
  },
  {
   "cell_type": "markdown",
   "source": [
    "SPECIFY DEPEDENCIES & LIBRARIES"
   ],
   "metadata": {}
  },
  {
   "cell_type": "code",
   "execution_count": 1,
   "source": [
    "%%writefile conda_dependencies.yml\r\n",
    "\r\n",
    "dependencies:\r\n",
    "- scikit-learn=0.24.1\r\n",
    "- pip:\r\n",
    "  - numpy==1.19.5\r\n",
    "  - pandas==0.25.3\r\n",
    "  - azureml-defaults"
   ],
   "outputs": [
    {
     "output_type": "stream",
     "name": "stdout",
     "text": [
      "Writing conda_dependencies.yml\n"
     ]
    }
   ],
   "metadata": {}
  },
  {
   "cell_type": "code",
   "execution_count": 2,
   "source": [
    "from azureml.core import Environment\r\n",
    "\r\n",
    "sklearn_env = Environment.from_conda_specification(name = 'sklearn-env', file_path = './conda_dependencies.yml')"
   ],
   "outputs": [
    {
     "output_type": "stream",
     "name": "stderr",
     "text": [
      "No Python version provided, defaulting to \"3.6.2\"\n"
     ]
    }
   ],
   "metadata": {}
  }
 ],
 "metadata": {
  "orig_nbformat": 4,
  "language_info": {
   "name": "python",
   "version": "3.8.8",
   "mimetype": "text/x-python",
   "codemirror_mode": {
    "name": "ipython",
    "version": 3
   },
   "pygments_lexer": "ipython3",
   "nbconvert_exporter": "python",
   "file_extension": ".py"
  },
  "kernelspec": {
   "name": "python3",
   "display_name": "Python 3.8.8 64-bit ('base': conda)"
  },
  "interpreter": {
   "hash": "f4d2fc3f9599656570a986cacd0f8fb633e1f5eb6c0d7edd902095b821fab887"
  }
 },
 "nbformat": 4,
 "nbformat_minor": 2
}