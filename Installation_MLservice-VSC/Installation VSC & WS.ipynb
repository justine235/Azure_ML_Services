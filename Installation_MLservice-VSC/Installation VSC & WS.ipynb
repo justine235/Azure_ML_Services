{
 "cells": [
  {
   "cell_type": "code",
   "execution_count": null,
   "source": [
    "!pip install azureml-sdk\r\n",
    "!pip install azureml-sdk azureml-widgets\r\n",
    "!pip install azureml\r\n",
    "\r\n"
   ],
   "outputs": [],
   "metadata": {}
  },
  {
   "cell_type": "code",
   "execution_count": 4,
   "source": [
    " #Create a WS\r\n",
    "from azureml.core import Workspace\r\n",
    "ws = Workspace.create(name='training_MLservices',\r\n",
    "           subscription_id='a0f4cddc-a66a-4dcc-9df7-ccbd7f81bf7b',\r\n",
    "           resource_group='learning',\r\n",
    "           create_resource_group=True,\r\n",
    "           location='eastus2'\r\n",
    ")"
   ],
   "outputs": [
    {
     "output_type": "stream",
     "name": "stdout",
     "text": [
      "Deploying AppInsights with name traininginsights73a4ffa9.\n",
      "Deployed AppInsights with name traininginsights73a4ffa9. Took 3.86 seconds.\n",
      "Deploying StorageAccount with name trainingstoragef39925970.\n",
      "Deploying KeyVault with name trainingkeyvault571b5289.\n",
      "Deployed KeyVault with name trainingkeyvault571b5289. Took 20.08 seconds.\n",
      "Deployed StorageAccount with name trainingstoragef39925970. Took 24.11 seconds.\n",
      "Deploying Workspace with name training_MLservices.\n",
      "Deployed Workspace with name training_MLservices. Took 24.11 seconds.\n"
     ]
    }
   ],
   "metadata": {}
  }
 ],
 "metadata": {
  "orig_nbformat": 4,
  "language_info": {
   "name": "python",
   "version": "3.8.8",
   "mimetype": "text/x-python",
   "codemirror_mode": {
    "name": "ipython",
    "version": 3
   },
   "pygments_lexer": "ipython3",
   "nbconvert_exporter": "python",
   "file_extension": ".py"
  },
  "kernelspec": {
   "name": "python3",
   "display_name": "Python 3.8.8 64-bit ('base': conda)"
  },
  "interpreter": {
   "hash": "f4d2fc3f9599656570a986cacd0f8fb633e1f5eb6c0d7edd902095b821fab887"
  }
 },
 "nbformat": 4,
 "nbformat_minor": 2
}