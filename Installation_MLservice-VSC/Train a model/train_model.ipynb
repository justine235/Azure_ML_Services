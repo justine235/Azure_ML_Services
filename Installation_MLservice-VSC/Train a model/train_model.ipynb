{
 "cells": [
  {
   "cell_type": "code",
   "execution_count": 2,
   "source": [
    "\r\n",
    "# connection au WS\r\n",
    "from azureml.core import Workspace\r\n",
    "ws = Workspace.from_config()\r\n",
    "ws.get_details()\r\n",
    "\r\n",
    "# Execution du script en tant qu'experience\r\n",
    "from azureml.core import Experiment, ScriptRunConfig, Environment\r\n",
    "from azureml.core.conda_dependencies import CondaDependencies\r\n",
    "\r\n",
    "# Create a Python environment for the experiment\r\n",
    "sklearn_env = Environment(\"sklearn-env\")\r\n",
    "\r\n",
    "# Ensure the required packages are installed\r\n",
    "packages = CondaDependencies.create(conda_packages=['scikit-learn','pip'],\r\n",
    "                                    pip_packages=['azureml-defaults'])\r\n",
    "sklearn_env.python.conda_dependencies = packages\r\n",
    "\r\n",
    "# Create a script config\r\n",
    "script_config = ScriptRunConfig(source_directory=\".\",\r\n",
    "                                script='training_script.py',\r\n",
    "                                compute_target = 'jcharley1',\r\n",
    "                                environment=sklearn_env) \r\n",
    "\r\n",
    "# Submit the experiment\r\n",
    "experiment = Experiment(workspace=ws, name='test3')\r\n",
    "run = experiment.submit(config=script_config)\r\n",
    "run.wait_for_completion()\r\n"
   ],
   "outputs": [
    {
     "output_type": "stream",
     "name": "stderr",
     "text": [
      "WARNING:root:The conda environment is currently locked by another AzureML job. Further job submission will wait until the other process finishes. If there are no other jobs running, please delete C:\\Users\\jcharley\\.azureml\\locks\\azureml_conda_lock\n"
     ]
    }
   ],
   "metadata": {}
  }
 ],
 "metadata": {
  "orig_nbformat": 4,
  "language_info": {
   "name": "python",
   "version": "3.8.8",
   "mimetype": "text/x-python",
   "codemirror_mode": {
    "name": "ipython",
    "version": 3
   },
   "pygments_lexer": "ipython3",
   "nbconvert_exporter": "python",
   "file_extension": ".py"
  },
  "kernelspec": {
   "name": "python3",
   "display_name": "Python 3.8.8 64-bit ('base': conda)"
  },
  "interpreter": {
   "hash": "f4d2fc3f9599656570a986cacd0f8fb633e1f5eb6c0d7edd902095b821fab887"
  }
 },
 "nbformat": 4,
 "nbformat_minor": 2
}